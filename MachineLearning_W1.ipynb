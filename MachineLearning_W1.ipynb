{
  "cells": [
    {
      "cell_type": "markdown",
      "id": "5aaa18d3",
      "metadata": {
        "id": "5aaa18d3"
      },
      "source": [
        "**MACHINE LEARNING WEEK 1**"
      ]
    },
    {
      "cell_type": "markdown",
      "id": "672e0bdf",
      "metadata": {
        "id": "672e0bdf"
      },
      "source": [
        "**SOME BASİC EXAMPLES**"
      ]
    },
    {
      "cell_type": "code",
      "execution_count": 1,
      "id": "bc07d3b1",
      "metadata": {
        "colab": {
          "base_uri": "https://localhost:8080/"
        },
        "id": "bc07d3b1",
        "outputId": "8a254b7e-709a-45fd-b16c-1ab121846b67"
      },
      "outputs": [
        {
          "output_type": "stream",
          "name": "stdout",
          "text": [
            "10\n",
            "20\n",
            "pazartesi\n"
          ]
        },
        {
          "output_type": "execute_result",
          "data": {
            "text/plain": [
              "str"
            ]
          },
          "metadata": {},
          "execution_count": 1
        }
      ],
      "source": [
        "a=10\n",
        "var1=20\n",
        "x=\"pazartesi\"\n",
        "\n",
        "print(a)\n",
        "print(var1)\n",
        "print(x)\n",
        "type(x)"
      ]
    },
    {
      "cell_type": "code",
      "execution_count": 2,
      "id": "6e2a801d",
      "metadata": {
        "colab": {
          "base_uri": "https://localhost:8080/"
        },
        "id": "6e2a801d",
        "outputId": "9c895e99-0977-4875-d2d9-effef077f030"
      },
      "outputs": [
        {
          "output_type": "stream",
          "name": "stdout",
          "text": [
            "[10, 20, 30]\n"
          ]
        }
      ],
      "source": [
        "#DEFİNE A LİST\n",
        "var1=10\n",
        "var2=20\n",
        "var3=30\n",
        "list_int=[10,20,30]\n",
        "print(list_int)"
      ]
    },
    {
      "cell_type": "code",
      "execution_count": 3,
      "id": "8dafa77e",
      "metadata": {
        "colab": {
          "base_uri": "https://localhost:8080/"
        },
        "id": "8dafa77e",
        "outputId": "d8477c86-6d74-4b01-99e2-b1681f6d12a9"
      },
      "outputs": [
        {
          "output_type": "execute_result",
          "data": {
            "text/plain": [
              "10"
            ]
          },
          "metadata": {},
          "execution_count": 3
        }
      ],
      "source": [
        "#First element of the list\n",
        "list_int[0]"
      ]
    },
    {
      "cell_type": "code",
      "execution_count": 4,
      "id": "c0dce02d",
      "metadata": {
        "colab": {
          "base_uri": "https://localhost:8080/"
        },
        "id": "c0dce02d",
        "outputId": "415381c5-48ba-4706-a75d-da547b28de60"
      },
      "outputs": [
        {
          "output_type": "execute_result",
          "data": {
            "text/plain": [
              "30"
            ]
          },
          "metadata": {},
          "execution_count": 4
        }
      ],
      "source": [
        "#Last element of the list\n",
        "list_int[-1]"
      ]
    },
    {
      "cell_type": "code",
      "execution_count": 5,
      "id": "58e1999d",
      "metadata": {
        "colab": {
          "base_uri": "https://localhost:8080/"
        },
        "id": "58e1999d",
        "outputId": "38951569-ab56-44b9-a56d-f18ef33023c1"
      },
      "outputs": [
        {
          "output_type": "execute_result",
          "data": {
            "text/plain": [
              "[10, 20, 30]"
            ]
          },
          "metadata": {},
          "execution_count": 5
        }
      ],
      "source": [
        "#variables in the range of list\n",
        "list_int[0:3]"
      ]
    },
    {
      "cell_type": "code",
      "execution_count": 6,
      "id": "d479ab47",
      "metadata": {
        "colab": {
          "base_uri": "https://localhost:8080/"
        },
        "id": "d479ab47",
        "outputId": "34869301-e45b-4d75-9f3f-dfb34b24a58c"
      },
      "outputs": [
        {
          "output_type": "stream",
          "name": "stdout",
          "text": [
            "[10, 20, 30, 25]\n"
          ]
        }
      ],
      "source": [
        "#to add variables to the list\n",
        "list_int.append(25)\n",
        "print(list_int)"
      ]
    },
    {
      "cell_type": "code",
      "execution_count": 7,
      "id": "e85fad4d",
      "metadata": {
        "colab": {
          "base_uri": "https://localhost:8080/"
        },
        "id": "e85fad4d",
        "outputId": "1de5db9f-1312-4739-8cb9-e7d59c49c749"
      },
      "outputs": [
        {
          "output_type": "stream",
          "name": "stdout",
          "text": [
            "[10, 20, 30]\n"
          ]
        }
      ],
      "source": [
        "#to delete variables to the list\n",
        "list_int.remove(25)\n",
        "print(list_int)"
      ]
    },
    {
      "cell_type": "code",
      "execution_count": 8,
      "id": "0ded0216",
      "metadata": {
        "colab": {
          "base_uri": "https://localhost:8080/"
        },
        "id": "0ded0216",
        "outputId": "4900303d-6515-42c1-e624-aa6295186c72"
      },
      "outputs": [
        {
          "output_type": "stream",
          "name": "stdout",
          "text": [
            "[30, 20, 10]\n"
          ]
        }
      ],
      "source": [
        "#to print the list in reverse\n",
        "list_int.reverse()\n",
        "print(list_int)"
      ]
    },
    {
      "cell_type": "code",
      "execution_count": 9,
      "id": "c79fbacf",
      "metadata": {
        "scrolled": false,
        "colab": {
          "base_uri": "https://localhost:8080/"
        },
        "id": "c79fbacf",
        "outputId": "701cf857-b82f-42b6-8ef9-ecab49db78e5"
      },
      "outputs": [
        {
          "output_type": "stream",
          "name": "stdout",
          "text": [
            "[10, 20, 30]\n"
          ]
        }
      ],
      "source": [
        "#to sort the list from smallest to largest\n",
        "list_int.sort()\n",
        "print(list_int)"
      ]
    },
    {
      "cell_type": "markdown",
      "id": "838bb471",
      "metadata": {
        "id": "838bb471"
      },
      "source": [
        "if else -for-while loop examples"
      ]
    },
    {
      "cell_type": "code",
      "execution_count": 10,
      "id": "b757ccbf",
      "metadata": {
        "colab": {
          "base_uri": "https://localhost:8080/"
        },
        "id": "b757ccbf",
        "outputId": "7b740995-d883-4852-deaf-68f244241ea6"
      },
      "outputs": [
        {
          "output_type": "stream",
          "name": "stdout",
          "text": [
            "30\n"
          ]
        }
      ],
      "source": [
        "#to find maximum element with for loop\n",
        "x=10\n",
        "for each in list_int:\n",
        "    if(each>x):\n",
        "        x=each\n",
        "    else:\n",
        "        continue\n",
        "print(x)"
      ]
    },
    {
      "cell_type": "code",
      "execution_count": 11,
      "id": "31269ef5",
      "metadata": {
        "colab": {
          "base_uri": "https://localhost:8080/"
        },
        "id": "31269ef5",
        "outputId": "b6663d68-4d37-4c77-fa90-c44a109741bd"
      },
      "outputs": [
        {
          "output_type": "stream",
          "name": "stdout",
          "text": [
            "0\n",
            "1\n",
            "2\n",
            "3\n",
            "4\n"
          ]
        }
      ],
      "source": [
        "#to print from 0 to 5 with while loop(5 is not included)\n",
        "i=0\n",
        "while(i<5):\n",
        "    print(i)\n",
        "    i=i+1"
      ]
    },
    {
      "cell_type": "code",
      "execution_count": 12,
      "id": "12bc90ee",
      "metadata": {
        "colab": {
          "base_uri": "https://localhost:8080/"
        },
        "id": "12bc90ee",
        "outputId": "ae1a9bbe-5770-4a21-eb79-f0f640b8ac9c"
      },
      "outputs": [
        {
          "output_type": "execute_result",
          "data": {
            "text/plain": [
              "12.56"
            ]
          },
          "metadata": {},
          "execution_count": 12
        }
      ],
      "source": [
        "#to use function\n",
        "def cember_cevre(r,pi=3.14):  #Pi is default value\n",
        "    result=2*pi*r\n",
        "    return result\n",
        "cember_cevre(2)                #to send value"
      ]
    },
    {
      "cell_type": "code",
      "execution_count": 13,
      "id": "779a4674",
      "metadata": {
        "colab": {
          "base_uri": "https://localhost:8080/"
        },
        "id": "779a4674",
        "outputId": "7021558c-1c7c-4252-e5dd-d51161e1120b"
      },
      "outputs": [
        {
          "output_type": "execute_result",
          "data": {
            "text/plain": [
              "25"
            ]
          },
          "metadata": {},
          "execution_count": 13
        }
      ],
      "source": [
        "#another example for function\n",
        "def hesapla(x):\n",
        "    result=x*x\n",
        "    return result\n",
        "hesapla(5)"
      ]
    },
    {
      "cell_type": "code",
      "execution_count": 14,
      "id": "8df87db0",
      "metadata": {
        "colab": {
          "base_uri": "https://localhost:8080/"
        },
        "id": "8df87db0",
        "outputId": "4d539000-0a15-42ea-f3f7-46642c04cd55"
      },
      "outputs": [
        {
          "output_type": "stream",
          "name": "stdout",
          "text": [
            "25\n"
          ]
        }
      ],
      "source": [
        "#Shorter way to use function is lambda\n",
        "result=lambda x:x*x\n",
        "print(result(5))"
      ]
    },
    {
      "cell_type": "code",
      "execution_count": 15,
      "id": "268fd7bf",
      "metadata": {
        "colab": {
          "base_uri": "https://localhost:8080/"
        },
        "id": "268fd7bf",
        "outputId": "796959d7-70c5-41a2-9e1b-5380bb182934"
      },
      "outputs": [
        {
          "output_type": "stream",
          "name": "stdout",
          "text": [
            "{'betül': 23, 'beyza': 20, 'irem': 25}\n"
          ]
        }
      ],
      "source": [
        "#to use dictionary\n",
        "dictionary={\"betül\":23,\"beyza\":20,\"irem\":25} #keys&values\n",
        "print(dictionary)"
      ]
    },
    {
      "cell_type": "code",
      "execution_count": 16,
      "id": "6b4f34b6",
      "metadata": {
        "colab": {
          "base_uri": "https://localhost:8080/"
        },
        "id": "6b4f34b6",
        "outputId": "94b2b688-8b57-48b5-b4fd-6f09cbc2d096"
      },
      "outputs": [
        {
          "output_type": "execute_result",
          "data": {
            "text/plain": [
              "dict"
            ]
          },
          "metadata": {},
          "execution_count": 16
        }
      ],
      "source": [
        "type(dictionary)"
      ]
    },
    {
      "cell_type": "code",
      "execution_count": 17,
      "id": "8e47beef",
      "metadata": {
        "colab": {
          "base_uri": "https://localhost:8080/"
        },
        "id": "8e47beef",
        "outputId": "010a5039-4ee9-4fbf-c079-918cb033a49d"
      },
      "outputs": [
        {
          "output_type": "execute_result",
          "data": {
            "text/plain": [
              "dict_keys(['betül', 'beyza', 'irem'])"
            ]
          },
          "metadata": {},
          "execution_count": 17
        }
      ],
      "source": [
        "dictionary.keys()"
      ]
    },
    {
      "cell_type": "code",
      "execution_count": 18,
      "id": "f67df369",
      "metadata": {
        "colab": {
          "base_uri": "https://localhost:8080/"
        },
        "id": "f67df369",
        "outputId": "30969c58-4194-4870-86e8-e2248e78824f"
      },
      "outputs": [
        {
          "output_type": "execute_result",
          "data": {
            "text/plain": [
              "dict_values([23, 20, 25])"
            ]
          },
          "metadata": {},
          "execution_count": 18
        }
      ],
      "source": [
        "dictionary.values()"
      ]
    },
    {
      "cell_type": "code",
      "execution_count": 19,
      "id": "85f8a1cf",
      "metadata": {
        "colab": {
          "base_uri": "https://localhost:8080/"
        },
        "id": "85f8a1cf",
        "outputId": "47657810-51a3-4bf3-86a9-e8b0a558c46e"
      },
      "outputs": [
        {
          "output_type": "stream",
          "name": "stdout",
          "text": [
            "yes\n"
          ]
        }
      ],
      "source": [
        "#to find out if the keys is in the dictionary\n",
        "b=dictionary.keys()\n",
        "\n",
        "if \"betül\" in b:\n",
        "    print(\"yes\")\n",
        "else:\n",
        "    print(\"no\")"
      ]
    },
    {
      "cell_type": "code",
      "execution_count": 19,
      "id": "da1a1a0c",
      "metadata": {
        "id": "da1a1a0c"
      },
      "outputs": [],
      "source": []
    }
  ],
  "metadata": {
    "kernelspec": {
      "display_name": "Python 3 (ipykernel)",
      "language": "python",
      "name": "python3"
    },
    "language_info": {
      "codemirror_mode": {
        "name": "ipython",
        "version": 3
      },
      "file_extension": ".py",
      "mimetype": "text/x-python",
      "name": "python",
      "nbconvert_exporter": "python",
      "pygments_lexer": "ipython3",
      "version": "3.11.3"
    },
    "colab": {
      "provenance": []
    }
  },
  "nbformat": 4,
  "nbformat_minor": 5
}