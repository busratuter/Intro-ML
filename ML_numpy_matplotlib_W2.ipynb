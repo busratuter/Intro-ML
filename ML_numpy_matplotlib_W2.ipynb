{
  "cells": [
    {
      "cell_type": "markdown",
      "id": "46fe7aa0-a7bd-4780-9062-bbd4c8cb41c9",
      "metadata": {
        "id": "46fe7aa0-a7bd-4780-9062-bbd4c8cb41c9"
      },
      "source": [
        "**NUMPY BASİCS**"
      ]
    },
    {
      "cell_type": "code",
      "execution_count": 1,
      "id": "01fcf75e-4faf-48a0-a0c8-393282ddbb19",
      "metadata": {
        "id": "01fcf75e-4faf-48a0-a0c8-393282ddbb19"
      },
      "outputs": [],
      "source": [
        "import numpy as np"
      ]
    },
    {
      "cell_type": "code",
      "execution_count": 2,
      "id": "1bb1ddd7-c298-43a1-9f30-7b806deefbee",
      "metadata": {
        "colab": {
          "base_uri": "https://localhost:8080/"
        },
        "id": "1bb1ddd7-c298-43a1-9f30-7b806deefbee",
        "outputId": "adb3e4b9-b1af-47dc-8a15-4e6b8e9a3153"
      },
      "outputs": [
        {
          "output_type": "stream",
          "name": "stdout",
          "text": [
            "Vector: [ 1  2  3  4  5  6  7  8  9 10 11 12 13 14 15]\n",
            "Two dimensional array: [[ 1  2  3  4  5]\n",
            " [ 6  7  8  9 10]\n",
            " [11 12 13 14 15]]\n"
          ]
        }
      ],
      "source": [
        "array2=np.array([1,2,3,4,5,6,7,8,9,10,11,12,13,14,15])\n",
        "print(\"Vector:\",array2)\n",
        "a=array2.reshape(3,5)\n",
        "print(\"Two dimensional array:\",a)"
      ]
    },
    {
      "cell_type": "code",
      "execution_count": 3,
      "id": "401f78e8-3661-42e1-8a2b-353746e98178",
      "metadata": {
        "colab": {
          "base_uri": "https://localhost:8080/"
        },
        "id": "401f78e8-3661-42e1-8a2b-353746e98178",
        "outputId": "6c9ebf4e-439e-4d8b-8c23-44943ed6cb6f"
      },
      "outputs": [
        {
          "output_type": "stream",
          "name": "stdout",
          "text": [
            "shape: (3, 5)\n",
            "dimension: 2\n",
            "data type: int64\n",
            "size: 15\n",
            "type: <class 'numpy.ndarray'>\n"
          ]
        }
      ],
      "source": [
        "print(\"shape:\",a.shape)\n",
        "print(\"dimension:\",a.ndim)\n",
        "print(\"data type:\",a.dtype.name)\n",
        "print(\"size:\",a.size)\n",
        "print(\"type:\",type(a))"
      ]
    },
    {
      "cell_type": "code",
      "execution_count": 4,
      "id": "6aeef3c2-ed36-423a-8ce4-1d32cb301cc1",
      "metadata": {
        "colab": {
          "base_uri": "https://localhost:8080/"
        },
        "id": "6aeef3c2-ed36-423a-8ce4-1d32cb301cc1",
        "outputId": "f27d6d6a-e98d-4c7d-96de-c7bce6487f82"
      },
      "outputs": [
        {
          "output_type": "stream",
          "name": "stdout",
          "text": [
            "[5 7 9]\n",
            "[-3 -3 -3]\n",
            "[1 4 9]\n"
          ]
        }
      ],
      "source": [
        "x=np.array([1,2,3])\n",
        "y=np.array([4,5,6])\n",
        "print(x+y)\n",
        "print(x-y)\n",
        "print(x**2)"
      ]
    },
    {
      "cell_type": "code",
      "execution_count": 5,
      "id": "06943f3b-e070-49aa-9de2-b0eafe08d2dc",
      "metadata": {
        "colab": {
          "base_uri": "https://localhost:8080/"
        },
        "id": "06943f3b-e070-49aa-9de2-b0eafe08d2dc",
        "outputId": "2a236c86-b584-4c43-f420-6f27b9a4f6aa"
      },
      "outputs": [
        {
          "output_type": "stream",
          "name": "stdout",
          "text": [
            "[1 2 3]\n",
            "[5 2 3] [5 2 3] [5 2 3]\n"
          ]
        }
      ],
      "source": [
        "a=np.array([1,2,3])\n",
        "d=a.copy()\n",
        "print(d)\n",
        "b=a\n",
        "c=a\n",
        "b[0]=5\n",
        "print(a,b,c)"
      ]
    },
    {
      "cell_type": "code",
      "execution_count": 6,
      "id": "31436221-e214-4e8c-bc6c-0bf2f32d8bbb",
      "metadata": {
        "colab": {
          "base_uri": "https://localhost:8080/"
        },
        "id": "31436221-e214-4e8c-bc6c-0bf2f32d8bbb",
        "outputId": "7f82cbbf-9fb6-460e-fef2-b11b1c5ff4d5"
      },
      "outputs": [
        {
          "output_type": "stream",
          "name": "stdout",
          "text": [
            "1\n",
            "[1 2 3 4]\n"
          ]
        }
      ],
      "source": [
        "a=np.array([1,2,3,4,5,6,7])\n",
        "print(a[0])\n",
        "print(a[0:4])"
      ]
    },
    {
      "cell_type": "code",
      "execution_count": 7,
      "id": "a9855ede-30a8-47ae-b84d-5a1b442e456d",
      "metadata": {
        "colab": {
          "base_uri": "https://localhost:8080/"
        },
        "id": "a9855ede-30a8-47ae-b84d-5a1b442e456d",
        "outputId": "e2f19da7-9f7d-4c98-f347-0df4d16f1bd7"
      },
      "outputs": [
        {
          "output_type": "stream",
          "name": "stdout",
          "text": [
            "[7 6 5 4 3 2 1]\n"
          ]
        }
      ],
      "source": [
        "reverse_array=a[::-1]\n",
        "print(reverse_array)"
      ]
    },
    {
      "cell_type": "code",
      "execution_count": 8,
      "id": "e9d73160-3de6-4af8-ae46-06d18285ea41",
      "metadata": {
        "colab": {
          "base_uri": "https://localhost:8080/"
        },
        "id": "e9d73160-3de6-4af8-ae46-06d18285ea41",
        "outputId": "7035ee01-ecf6-421b-9104-fbc126f2fc90"
      },
      "outputs": [
        {
          "output_type": "stream",
          "name": "stdout",
          "text": [
            "[[ 1  2  3  4  5]\n",
            " [ 6  7  8  9 10]]\n",
            "7\n",
            "[2 7]\n",
            "[ 6  7  8  9 10]\n",
            "[7 8 9]\n",
            "[ 6  7  8  9 10]\n",
            "[ 5 10]\n"
          ]
        }
      ],
      "source": [
        "b=np.array([[1,2,3,4,5],[6,7,8,9,10]])\n",
        "print(b)\n",
        "print(b[1,1])\n",
        "print(b[:,1])\n",
        "print(b[1,:])\n",
        "print(b[1,1:4])\n",
        "print(b[-1,:])\n",
        "print(b[:,-1])"
      ]
    },
    {
      "cell_type": "markdown",
      "id": "59c666b4-225d-4b2d-9e4a-8dd5ec04bf95",
      "metadata": {
        "id": "59c666b4-225d-4b2d-9e4a-8dd5ec04bf95"
      },
      "source": [
        "**MATPLOTLIB BASICS**"
      ]
    },
    {
      "cell_type": "code",
      "execution_count": 9,
      "id": "6d971a92-38df-4b4d-bb41-80ac56a4ad4f",
      "metadata": {
        "colab": {
          "base_uri": "https://localhost:8080/",
          "height": 472
        },
        "id": "6d971a92-38df-4b4d-bb41-80ac56a4ad4f",
        "outputId": "c761d17d-114c-45f1-a130-e55b2be57e68"
      },
      "outputs": [
        {
          "output_type": "display_data",
          "data": {
            "text/plain": [
              "<Figure size 640x480 with 1 Axes>"
            ],
            "image/png": "[encoded data removed]"
          },
          "metadata": {}
        }
      ],
      "source": [
        "import matplotlib.pyplot as plt\n",
        "import numpy as np\n",
        "data = np.random.randn(1000)\n",
        "\n",
        "plt.hist(data,bins=30)\n",
        "plt.title(\"histogram\")\n",
        "plt.xlabel(\"Values\")\n",
        "plt.ylabel(\"Frequencies\")\n",
        "plt.show()\n"
      ]
    },
    {
      "cell_type": "code",
      "execution_count": 10,
      "id": "bd6573fc-2667-4060-a139-dfd086e210ec",
      "metadata": {
        "colab": {
          "base_uri": "https://localhost:8080/",
          "height": 428
        },
        "id": "bd6573fc-2667-4060-a139-dfd086e210ec",
        "outputId": "bf89ced6-c810-403b-ebf8-de7fae8a18e0"
      },
      "outputs": [
        {
          "output_type": "display_data",
          "data": {
            "text/plain": [
              "<Figure size 640x480 with 1 Axes>"
            ],
            "image/png": "[encoded data removed]"
          },
          "metadata": {}
        }
      ],
      "source": [
        "sizes=[30,25,15,10,5,5]\n",
        "plt.pie(sizes)\n",
        "plt.title(\"Pie Chart\")\n",
        "plt.show()\n"
      ]
    }
  ],
  "metadata": {
    "kernelspec": {
      "display_name": "Python 3 (ipykernel)",
      "language": "python",
      "name": "python3"
    },
    "language_info": {
      "codemirror_mode": {
        "name": "ipython",
        "version": 3
      },
      "file_extension": ".py",
      "mimetype": "text/x-python",
      "name": "python",
      "nbconvert_exporter": "python",
      "pygments_lexer": "ipython3",
      "version": "3.11.7"
    },
    "colab": {
      "provenance": []
    }
  },
  "nbformat": 4,
  "nbformat_minor": 5
}